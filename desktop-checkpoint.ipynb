{
 "cells": [
  {
   "cell_type": "code",
   "execution_count": 19,
   "id": "04b451cd",
   "metadata": {},
   "outputs": [
    {
     "name": "stdout",
     "output_type": "stream",
     "text": [
      "Enter a string to be search : red\n",
      "\n",
      "\n",
      "Not Found\n",
      "\n",
      "\n",
      "Dictionary Search : {'red': []}\n",
      "\n",
      "****************************************************************\n",
      "\n",
      "Word involve : {'red': []}\n"
     ]
    }
   ],
   "source": [
    "\n",
    "def search():\n",
    "    file1=open('list1.txt','r')\n",
    "    data=file1.read()\n",
    "    main_list=data.split(\"\\n\")\n",
    "    \n",
    "    word_to_be_search=input(\"Enter a string to be search : \")\n",
    "    print(\"\\n\")\n",
    "    list1,list2=[],[]\n",
    "    for word in main_list:\n",
    "        if (word == word_to_be_search) or (word.startswith(word_to_be_search) == True):\n",
    "            list1.append(word)\n",
    "            \n",
    "        elif(word.find(word_to_be_search)==True):\n",
    "            list2.append(word)\n",
    "        elif(word.startswith(word_to_be_search) == False) and (word.find(word_to_be_search)==False):\n",
    "            print(f\"{word_to_be_search} is Not available \")\n",
    "            break\n",
    "        \n",
    "        \n",
    "    print(\"\\n\")            \n",
    "    dict1={word_to_be_search:list1}\n",
    "    dict2={word_to_be_search:list2}\n",
    "    print(f\"Dictionary Search : {dict1}\"  )\n",
    "    print(\"\\n****************************************************************\\n\")\n",
    "    \n",
    "    print(f\"Word involve : {dict2}\" )\n",
    "    \n",
    "search()"
   ]
  },
  {
   "cell_type": "code",
   "execution_count": 20,
   "id": "4854e6f6",
   "metadata": {},
   "outputs": [
    {
     "data": {
      "text/plain": [
       "'C:\\\\Users\\\\HP'"
      ]
     },
     "execution_count": 20,
     "metadata": {},
     "output_type": "execute_result"
    }
   ],
   "source": [
    "pwd"
   ]
  },
  {
   "cell_type": "code",
   "execution_count": null,
   "id": "ac1b730d",
   "metadata": {},
   "outputs": [],
   "source": []
  }
 ],
 "metadata": {
  "kernelspec": {
   "display_name": "Python 3 (ipykernel)",
   "language": "python",
   "name": "python3"
  },
  "language_info": {
   "codemirror_mode": {
    "name": "ipython",
    "version": 3
   },
   "file_extension": ".py",
   "mimetype": "text/x-python",
   "name": "python",
   "nbconvert_exporter": "python",
   "pygments_lexer": "ipython3",
   "version": "3.9.7"
  }
 },
 "nbformat": 4,
 "nbformat_minor": 5
}
